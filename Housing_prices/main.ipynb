{
 "cells": [
  {
   "cell_type": "markdown",
   "metadata": {},
   "source": [
    "# Análisis del Mercado de Bienes Raíces en Gran Santiago (2004-2020)"
   ]
  },
  {
   "cell_type": "markdown",
   "metadata": {},
   "source": [
    "En este estudio, se llevará a cabo un análisis detallado del mercado de bienes raíces en la zona de Gran Santiago, en Chile, durante el período comprendido entre 2004 y 2020.\n",
    "\n",
    "Este análisis se basa en datos de stock, ventas y la duración en meses para distintos tipos de propiedades, como departamentos, casas y viviendas, con el objetivo de proporcionar una visión completa de la evolución de este mercado a lo largo de los años.\n",
    "\n",
    "A continuación una descripción de los nombres de las columnas y lo que representan.\n",
    "\n",
    "**Stock:** unidades de viviendas nuevas (departamentos o casas) disponibles para venta en cada momento del tiempo.\n",
    "\n",
    "**Ventas:** promesas de compraventa de viviendas nuevas firmadas en cada momento del tiempo.\n",
    "\t\t\t\t\t\t\n",
    "**Meses:** medida de la velocidad de ventas que se calcula como el cociente entre el stock disponible en un mes concreto y las unidades vendidas en ese mismo mes. Representa el número de meses necesarios para vender todo el stock disponible asumiendo que el ritmo de ventas se mantendrá estable y no habrá ingreso de nuevas unidades.\t\t\t\t\t\t\t\t\t"
   ]
  },
  {
   "cell_type": "code",
   "execution_count": 76,
   "metadata": {},
   "outputs": [],
   "source": [
    "#IMPORTANDO BIBLIOTECAS NECESARIAS PARA EL PROYECTO\n",
    "\n",
    "import numpy as np\n",
    "import pandas as pd\n",
    "import matplotlib.pyplot as plt"
   ]
  },
  {
   "cell_type": "code",
   "execution_count": 77,
   "metadata": {},
   "outputs": [
    {
     "name": "stdout",
     "output_type": "stream",
     "text": [
      "  MERCADO GRAN SANTIAGO Unnamed: 1 Departamentos Unnamed: 3 Unnamed: 4  Casas  \\\n",
      "0                   NaN        NaN         Stock     Ventas      Meses  Stock   \n",
      "1                  2004        Ene         22001        960  22.917708   9068   \n",
      "2                   NaN        Feb         21434        841  25.486326   8447   \n",
      "3                   NaN        Mar         20593       1193  17.261526   7761   \n",
      "4                   NaN        Abr         20866       1282  16.276131   7370   \n",
      "\n",
      "  Unnamed: 6 Unnamed: 7 Viviendas Unnamed: 9 Unnamed: 10  \n",
      "0     Ventas      Meses     Stock     Ventas       Meses  \n",
      "1        540  16.792593     31069       1500   20.712667  \n",
      "2        556  15.192446     29881       1397   21.389406  \n",
      "3        788   9.848985     28354       1981   14.312973  \n",
      "4        754   9.774536     28236       2036   13.868369  \n"
     ]
    }
   ],
   "source": [
    "df = pd.read_excel('GranSantiagoMercadoWeb.xls')\n",
    "print(df.head())"
   ]
  },
  {
   "cell_type": "markdown",
   "metadata": {},
   "source": [
    "Eliminaremos las columnas de 'Casas' y 'Viviendas' para especificarnos en los precios de los Departamentos\n"
   ]
  },
  {
   "cell_type": "code",
   "execution_count": 78,
   "metadata": {},
   "outputs": [
    {
     "name": "stdout",
     "output_type": "stream",
     "text": [
      "  MERCADO GRAN SANTIAGO Unnamed: 1 Departamentos Unnamed: 3 Unnamed: 4\n",
      "0                   NaN        NaN         Stock     Ventas      Meses\n",
      "1                  2004        Ene         22001        960  22.917708\n",
      "2                   NaN        Feb         21434        841  25.486326\n",
      "3                   NaN        Mar         20593       1193  17.261526\n",
      "4                   NaN        Abr         20866       1282  16.276131\n"
     ]
    }
   ],
   "source": [
    "# Lista de índices de las columnas a eliminar\n",
    "column_indices_to_remove = [5, 6, 7, 8, 9, 10]\n",
    "\n",
    "# Eliminar las columnas usando iloc\n",
    "df = df.drop(df.columns[column_indices_to_remove], axis=1)\n",
    "\n",
    "print(df.head())"
   ]
  },
  {
   "cell_type": "code",
   "execution_count": 80,
   "metadata": {},
   "outputs": [
    {
     "name": "stdout",
     "output_type": "stream",
     "text": [
      "    AAA  MMM  Stock Ventas      Meses\n",
      "1  2004  Ene  22001    960  22.917708\n",
      "2   NaN  Feb  21434    841  25.486326\n",
      "3   NaN  Mar  20593   1193  17.261526\n",
      "4   NaN  Abr  20866   1282  16.276131\n",
      "5   NaN  May  23294   1588  14.668766\n"
     ]
    }
   ],
   "source": [
    "# Cambiando los nombres de las columas para no confundirse con los unamed 1 o los titulos\n",
    "df = df.rename(columns={'MERCADO GRAN SANTIAGO': 'AAA', 'Unnamed: 1': 'MMM', 'Departamentos': 'Stock', 'Unnamed: 3': 'Ventas', 'Unnamed: 4': 'Meses'})\n",
    "\n",
    "# Eliminando la fila 0 con los titulos de las columnas que no representan datos reales\n",
    "df = df.drop(df.index[0])\n",
    "\n",
    "# Imprimimos para ver resultados\n",
    "print(df.head())"
   ]
  },
  {
   "cell_type": "code",
   "execution_count": 89,
   "metadata": {},
   "outputs": [
    {
     "name": "stdout",
     "output_type": "stream",
     "text": [
      "     AAA  MMM  Stock Ventas      Meses\n",
      "1   2004  Ene  22001    960  22.917708\n",
      "2   2004  Feb  21434    841  25.486326\n",
      "3   2004  Mar  20593   1193  17.261526\n",
      "4   2004  Abr  20866   1282  16.276131\n",
      "5   2004  May  23294   1588  14.668766\n",
      "6   2004  Jun  21591   1540   14.02013\n",
      "7   2004  Jul  22443   1775  12.643944\n",
      "8   2004  Ago  20841   1741  11.970706\n",
      "9   2004  Sep  21970   1471  14.935418\n",
      "10  2004  Oct  22088   1356  16.289086\n",
      "11  2004  Nov  24387   1037  23.516876\n",
      "12  2004  Dic  19918    939  21.211928\n",
      "13  2005  Ene  19354    899  21.528365\n",
      "14  2005  Feb  21826    990  22.046465\n",
      "15  2005  Mar  21213   1007  21.065541\n"
     ]
    }
   ],
   "source": [
    "#  Llenamos los valores NaN en la columna 'AAA' con los valores anteriores \n",
    "df['AAA'] = df['AAA'].ffill()\n",
    "\n",
    "# Imprimimos para ver resultados\n",
    "print(df.head(15))"
   ]
  },
  {
   "cell_type": "code",
   "execution_count": 90,
   "metadata": {},
   "outputs": [
    {
     "name": "stdout",
     "output_type": "stream",
     "text": [
      "Información del dataset:\n",
      "<class 'pandas.core.frame.DataFrame'>\n",
      "RangeIndex: 241 entries, 1 to 241\n",
      "Data columns (total 5 columns):\n",
      " #   Column  Non-Null Count  Dtype \n",
      "---  ------  --------------  ----- \n",
      " 0   AAA     241 non-null    object\n",
      " 1   MMM     235 non-null    object\n",
      " 2   Stock   237 non-null    object\n",
      " 3   Ventas  234 non-null    object\n",
      " 4   Meses   234 non-null    object\n",
      "dtypes: object(5)\n",
      "memory usage: 9.5+ KB\n",
      "None\n",
      "\n",
      "\n",
      "\n",
      "Descripción del dataset:\n",
      "         AAA  MMM  Stock  Ventas       Meses\n",
      "count    241  235    237     234  234.000000\n",
      "unique    21   13    237     222  234.000000\n",
      "top     2004  Ene  22001    1741   22.917708\n",
      "freq      12   20      1       3    1.000000\n"
     ]
    }
   ],
   "source": [
    "# Imprimimos la informacion general para verificar que todo este correcto\n",
    "\n",
    "print(\"Información del dataset:\")\n",
    "print(df.info())\n",
    "print(\"\\n\\n\")\n",
    "\n",
    "print(\"Descripción del dataset:\")\n",
    "print(df.describe())"
   ]
  },
  {
   "cell_type": "code",
   "execution_count": 91,
   "metadata": {},
   "outputs": [
    {
     "data": {
      "text/plain": [
       "AAA       0\n",
       "MMM       6\n",
       "Stock     4\n",
       "Ventas    7\n",
       "Meses     7\n",
       "dtype: int64"
      ]
     },
     "execution_count": 91,
     "metadata": {},
     "output_type": "execute_result"
    }
   ],
   "source": [
    "# Recuento de valores nulos para cada columna \n",
    "df.isnull().sum()"
   ]
  },
  {
   "cell_type": "markdown",
   "metadata": {},
   "source": [
    "Que hacer: \n",
    "- Revisar campos nulos\n",
    "- Rellenar campos nulos? \n",
    "- Graficar datos\n",
    "- Aplicar algoritmos de ML"
   ]
  }
 ],
 "metadata": {
  "kernelspec": {
   "display_name": "Python 3",
   "language": "python",
   "name": "python3"
  },
  "language_info": {
   "codemirror_mode": {
    "name": "ipython",
    "version": 3
   },
   "file_extension": ".py",
   "mimetype": "text/x-python",
   "name": "python",
   "nbconvert_exporter": "python",
   "pygments_lexer": "ipython3",
   "version": "3.12.0"
  }
 },
 "nbformat": 4,
 "nbformat_minor": 2
}
